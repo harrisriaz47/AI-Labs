{
 "cells": [
  {
   "cell_type": "markdown",
   "metadata": {},
   "source": [
    "# Lists"
   ]
  },
  {
   "cell_type": "code",
   "execution_count": null,
   "metadata": {},
   "outputs": [],
   "source": [
    "mylist = [1,'hairs',4.7,'h']"
   ]
  },
  {
   "cell_type": "code",
   "execution_count": null,
   "metadata": {},
   "outputs": [],
   "source": [
    "mylist"
   ]
  },
  {
   "cell_type": "code",
   "execution_count": null,
   "metadata": {},
   "outputs": [],
   "source": [
    "print(mylist)"
   ]
  },
  {
   "cell_type": "code",
   "execution_count": null,
   "metadata": {},
   "outputs": [],
   "source": [
    "len(mylist)"
   ]
  },
  {
   "cell_type": "code",
   "execution_count": null,
   "metadata": {},
   "outputs": [],
   "source": [
    "mylist[3]"
   ]
  },
  {
   "cell_type": "code",
   "execution_count": null,
   "metadata": {},
   "outputs": [],
   "source": [
    "dctnry = {'key1':1,'key2':\"Harris\",'key3':mylist,'key4':[1,2,3,4]}"
   ]
  },
  {
   "cell_type": "code",
   "execution_count": null,
   "metadata": {},
   "outputs": [],
   "source": [
    "dctnry"
   ]
  },
  {
   "cell_type": "code",
   "execution_count": null,
   "metadata": {},
   "outputs": [],
   "source": [
    "dctnry['key2']"
   ]
  },
  {
   "cell_type": "code",
   "execution_count": null,
   "metadata": {},
   "outputs": [],
   "source": [
    "dctnry['key3'][2]"
   ]
  },
  {
   "cell_type": "code",
   "execution_count": null,
   "metadata": {},
   "outputs": [],
   "source": [
    "dctnry['key4'][3]"
   ]
  },
  {
   "cell_type": "markdown",
   "metadata": {},
   "source": [
    "# if else"
   ]
  },
  {
   "cell_type": "markdown",
   "metadata": {},
   "source": [
    "Q: Take the total numbers of student in a class from the user, enter thier names, rollno, and marks. prinyt the\n",
    "first 3 heighest number include student name and roll no"
   ]
  },
  {
   "cell_type": "code",
   "execution_count": 3,
   "metadata": {},
   "outputs": [
    {
     "name": "stdout",
     "output_type": "stream",
     "text": [
      "Enter Total Numbers of Student: 3\n",
      "Enter Roll No: 001\n",
      "Enter Name: Haris\n",
      "Enter Marks: 20\n",
      "Enter Roll No: 002\n",
      "Enter Name: Usman\n",
      "Enter Marks: 30\n",
      "Enter Roll No: 003\n",
      "Enter Name: umair\n",
      "Enter Marks: 40\n"
     ]
    },
    {
     "data": {
      "text/plain": [
       "[['Haris', 'Usman', 'umair'], ['001', '002', '003'], ['20', '30', '40']]"
      ]
     },
     "execution_count": 3,
     "metadata": {},
     "output_type": "execute_result"
    }
   ],
   "source": [
    "total = int(input(\"Enter Total Numbers of Student: \"))\n",
    "names = []\n",
    "rolls = [] \n",
    "marks = []\n",
    "for n in range(total):\n",
    "    roll = input(\"Enter Roll No: \")\n",
    "    name = input(\"Enter Name: \")\n",
    "    mark = input(\"Enter Marks: \")\n",
    "    names.append(name)\n",
    "    rolls.append(roll)\n",
    "    marks.append(mark)\n",
    "    \n",
    "b = [rolls,names,marks]\n",
    "\n",
    "c = \n"
   ]
  },
  {
   "cell_type": "code",
   "execution_count": null,
   "metadata": {},
   "outputs": [],
   "source": [
    "total = int(input(\"Enter Total Numbers of Student: \"))\n",
    "names = []\n",
    "rolls = [] \n",
    "marks = []\n",
    "for n in range(total):\n",
    "    rolls.append(input(\"Enter Roll No: \"))\n",
    "    name.append(input(\"Enter Name: \"))\n",
    "    marks.append(input(\"Enter Marks: \"))\n",
    "    \n",
    "b = [rolls,names,marks]\n",
    "\n",
    "temp = marks.copy()\n",
    "temp = marks.reverse()\n"
   ]
  },
  {
   "cell_type": "code",
   "execution_count": null,
   "metadata": {},
   "outputs": [],
   "source": []
  }
 ],
 "metadata": {
  "kernelspec": {
   "display_name": "Python 3",
   "language": "python",
   "name": "python3"
  },
  "language_info": {
   "codemirror_mode": {
    "name": "ipython",
    "version": 3
   },
   "file_extension": ".py",
   "mimetype": "text/x-python",
   "name": "python",
   "nbconvert_exporter": "python",
   "pygments_lexer": "ipython3",
   "version": "3.8.5"
  }
 },
 "nbformat": 4,
 "nbformat_minor": 4
}
